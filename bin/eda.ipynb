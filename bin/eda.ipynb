{
 "cells": [
  {
   "cell_type": "code",
   "execution_count": 2,
   "metadata": {},
   "outputs": [],
   "source": [
    "import script_template"
   ]
  },
  {
   "cell_type": "code",
   "execution_count": 3,
   "metadata": {},
   "outputs": [
    {
     "data": {
      "text/plain": [
       "'/home/joseph/Documents/XProj/ResearchSE/zipf/bin/__pycache__/script_template.cpython-37.pyc'"
      ]
     },
     "execution_count": 3,
     "metadata": {},
     "output_type": "execute_result"
    }
   ],
   "source": [
    "script_template.__cached__"
   ]
  },
  {
   "cell_type": "code",
   "execution_count": 4,
   "metadata": {},
   "outputs": [
    {
     "data": {
      "text/plain": [
       "'Brief description of what the script does.'"
      ]
     },
     "execution_count": 4,
     "metadata": {},
     "output_type": "execute_result"
    }
   ],
   "source": [
    "script_template.__doc__"
   ]
  },
  {
   "cell_type": "code",
   "execution_count": 5,
   "metadata": {},
   "outputs": [
    {
     "name": "stdout",
     "output_type": "stream",
     "text": [
      "Help on module script_template:\n",
      "\n",
      "NAME\n",
      "    script_template - Brief description of what the script does.\n",
      "\n",
      "FUNCTIONS\n",
      "    main(args)\n",
      "        Run the program.\n",
      "\n",
      "FILE\n",
      "    /home/joseph/Documents/XProj/ResearchSE/zipf/bin/script_template.py\n",
      "\n",
      "\n"
     ]
    }
   ],
   "source": [
    "help(script_template)"
   ]
  },
  {
   "cell_type": "code",
   "execution_count": 6,
   "metadata": {},
   "outputs": [],
   "source": [
    "import string\n",
    "from collections import Counter\n",
    "\n",
    "\n",
    "def count_words(reader):\n",
    "    \"\"\"Count the occurrence of each word in a string.\"\"\"\n",
    "    text = reader.read()\n",
    "    chunks = text.split()\n",
    "    npunc = [word.strip(string.punctuation) for word in chunks] \n",
    "    word_list = [word.lower() for word in npunc if word]\n",
    "    word_counts = Counter(word_list)\n",
    "    return word_counts"
   ]
  },
  {
   "cell_type": "code",
   "execution_count": null,
   "metadata": {},
   "outputs": [],
   "source": [
    "f = \"/home/joseph/Documents/XProj/ResearchSE/zipf/data/dracula.txt\"\n",
    "with open(f, 'r') as reader:\n",
    "    word_counts = count_words(reader)\n",
    "print(word_counts)"
   ]
  },
  {
   "cell_type": "code",
   "execution_count": 8,
   "metadata": {},
   "outputs": [],
   "source": [
    "import sys\n",
    "import csv\n",
    "\n",
    "\n",
    "def collection_to_csv(collection):\n",
    "    \"\"\"Write collection of items and counts in csv format.\"\"\"\n",
    "    collection = collection.most_common()\n",
    "    writer = csv.writer(sys.stdout)\n",
    "    writer.writerows(collection)"
   ]
  },
  {
   "cell_type": "code",
   "execution_count": 9,
   "metadata": {},
   "outputs": [],
   "source": [
    "def collection_to_csv(collection, num=None):\n",
    "    \"\"\"Write collection of items and counts in csv format.\"\"\"\n",
    "    collection = collection.most_common()\n",
    "    if num is None:\n",
    "        num = len(collection)\n",
    "    writer = csv.writer(sys.stdout)\n",
    "    writer.writerows(collection[0:num])"
   ]
  },
  {
   "cell_type": "code",
   "execution_count": 10,
   "metadata": {},
   "outputs": [
    {
     "name": "stdout",
     "output_type": "stream",
     "text": [
      "the,8036\n",
      "and,5896\n",
      "i,4712\n",
      "to,4540\n",
      "of,3738\n",
      "a,2961\n",
      "in,2558\n",
      "he,2543\n",
      "that,2455\n",
      "it,2141\n"
     ]
    }
   ],
   "source": [
    "collection_to_csv(word_counts, num=10)"
   ]
  },
  {
   "cell_type": "code",
   "execution_count": null,
   "metadata": {},
   "outputs": [],
   "source": []
  }
 ],
 "metadata": {
  "kernelspec": {
   "display_name": "Python 3.7.12 ('pip37')",
   "language": "python",
   "name": "python3"
  },
  "language_info": {
   "codemirror_mode": {
    "name": "ipython",
    "version": 3
   },
   "file_extension": ".py",
   "mimetype": "text/x-python",
   "name": "python",
   "nbconvert_exporter": "python",
   "pygments_lexer": "ipython3",
   "version": "3.7.12"
  },
  "orig_nbformat": 4,
  "vscode": {
   "interpreter": {
    "hash": "95dc6e288f0a544d67376aa94201465b27c247ee485f19f7c2245239d5546276"
   }
  }
 },
 "nbformat": 4,
 "nbformat_minor": 2
}
